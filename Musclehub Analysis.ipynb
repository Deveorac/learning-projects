{
 "cells": [
  {
   "cell_type": "markdown",
   "metadata": {},
   "source": [
    "## Capstone Project: MuscleHub AB Testing"
   ]
  },
  {
   "cell_type": "markdown",
   "metadata": {},
   "source": [
    "### Initial Setup "
   ]
  },
  {
   "cell_type": "markdown",
   "metadata": {},
   "source": [
    "Import required tools. "
   ]
  },
  {
   "cell_type": "code",
   "execution_count": 84,
   "metadata": {},
   "outputs": [],
   "source": [
    "import numpy as np\n",
    "from matplotlib import pyplot as plt\n",
    "import pandas as pd\n",
    "from scipy.stats import chi2_contingency"
   ]
  },
  {
   "cell_type": "markdown",
   "metadata": {},
   "source": [
    "### Import and Organize Data"
   ]
  },
  {
   "cell_type": "markdown",
   "metadata": {},
   "source": [
    "Data tables available to work with:\n",
    "\n",
    "- `visits` contains information about gym customers who have visited MuscleHub\n",
    "\n",
    "- `fitness_tests` contains information about clients in Group A who were given a fitness test\n",
    "\n",
    "- `applications` contains information about any potential customer who filled out an application\n",
    "\n",
    "- `purchases` contains information about customers who have purchased a membership"
   ]
  },
  {
   "cell_type": "code",
   "execution_count": 36,
   "metadata": {},
   "outputs": [
    {
     "name": "stdout",
     "output_type": "stream",
     "text": [
      "  first_name last_name                          email  gender visit_date\n",
      "0      Karen   Manning        Karen.Manning@gmail.com  female     5-1-17\n",
      "1    Annette     Boone               AB9982@gmail.com  female     5-1-17\n",
      "2   Salvador   Merritt  SalvadorMerritt12@outlook.com    male     5-1-17\n",
      "3     Martha   Maxwell       Martha.Maxwell@gmail.com  female     5-1-17\n",
      "4      Andre     Mayer         AndreMayer90@gmail.com    male     5-1-17\n",
      "6000\n"
     ]
    }
   ],
   "source": [
    "visits = pd.read_csv(\"visits.csv\")\n",
    "print(visits.head())\n",
    "print(len(visits))"
   ]
  },
  {
   "cell_type": "code",
   "execution_count": 37,
   "metadata": {},
   "outputs": [
    {
     "name": "stdout",
     "output_type": "stream",
     "text": [
      "  first_name last_name                   email  gender fitness_test_date\n",
      "0        Kim    Walter   KimWalter58@gmail.com  female        2017-07-03\n",
      "1        Tom   Webster        TW3857@gmail.com    male        2017-07-02\n",
      "2     Marcus     Bauer  Marcus.Bauer@gmail.com    male        2017-07-01\n",
      "3    Roberta      Best      RB6305@hotmail.com  female        2017-07-02\n",
      "4     Carrie   Francis      CF1896@hotmail.com  female        2017-07-05\n",
      "2500\n"
     ]
    }
   ],
   "source": [
    "fitness_tests = pd.read_csv(\"fitness_tests.csv\")\n",
    "print(fitness_tests.head())\n",
    "print(len(fitness_tests))"
   ]
  },
  {
   "cell_type": "code",
   "execution_count": 38,
   "metadata": {},
   "outputs": [
    {
     "name": "stdout",
     "output_type": "stream",
     "text": [
      "  first_name last_name                    email  gender application_date\n",
      "0        Roy    Abbott    RoyAbbott32@gmail.com    male       2017-08-12\n",
      "1      Agnes   Acevedo  AgnesAcevedo1@gmail.com  female       2017-09-29\n",
      "2    Roberta   Acevedo         RA8063@gmail.com  female       2017-09-15\n",
      "3     Darren    Acosta  DAcosta1996@hotmail.com    male       2017-07-26\n",
      "4     Vernon    Acosta    VAcosta1975@gmail.com    male       2017-07-14\n",
      "575\n"
     ]
    }
   ],
   "source": [
    "applications = pd.read_csv(\"applications.csv\")\n",
    "print(applications.head())\n",
    "print(len(applications))"
   ]
  },
  {
   "cell_type": "code",
   "execution_count": 39,
   "metadata": {},
   "outputs": [
    {
     "name": "stdout",
     "output_type": "stream",
     "text": [
      "  first_name last_name                    email  gender purchase_date\n",
      "0        Roy    Abbott    RoyAbbott32@gmail.com    male    2017-08-18\n",
      "1    Roberta   Acevedo         RA8063@gmail.com  female    2017-09-16\n",
      "2     Vernon    Acosta    VAcosta1975@gmail.com    male    2017-07-20\n",
      "3     Darren    Acosta  DAcosta1996@hotmail.com    male    2017-07-27\n",
      "4       Dawn    Adkins    Dawn.Adkins@gmail.com  female    2017-08-24\n",
      "450\n"
     ]
    }
   ],
   "source": [
    "purchases = pd.read_csv(\"purchases.csv\")\n",
    "print(purchases.head())\n",
    "print(len(purchases))"
   ]
  },
  {
   "cell_type": "markdown",
   "metadata": {},
   "source": [
    "Combining the data frames where `visit_data` is on or after `7-1-17` through a series of left joins. \n",
    "\n",
    "First, limit `visits` to the correct date range. Then merge the dataframes. "
   ]
  },
  {
   "cell_type": "code",
   "execution_count": 47,
   "metadata": {},
   "outputs": [
    {
     "name": "stdout",
     "output_type": "stream",
     "text": [
      "     first_name last_name                   email  gender visit_date\n",
      "1000        Kim    Walter   KimWalter58@gmail.com  female     7-1-17\n",
      "1001        Tom   Webster        TW3857@gmail.com    male     7-1-17\n",
      "1002     Edward     Bowen  Edward.Bowen@gmail.com    male     7-1-17\n",
      "1003     Marcus     Bauer  Marcus.Bauer@gmail.com    male     7-1-17\n",
      "1004    Roberta      Best      RB6305@hotmail.com  female     7-1-17\n",
      "5000\n"
     ]
    }
   ],
   "source": [
    "start_date = '7-01-17'\n",
    "mask = (visits['visit_date'] > start_date)\n",
    "visits = visits.loc[mask]\n",
    "print(visits.head())\n",
    "print(len(visits))"
   ]
  },
  {
   "cell_type": "code",
   "execution_count": 52,
   "metadata": {},
   "outputs": [
    {
     "name": "stdout",
     "output_type": "stream",
     "text": [
      "  first_name last_name                   email  gender visit_date  \\\n",
      "0        Kim    Walter   KimWalter58@gmail.com  female     7-1-17   \n",
      "1        Tom   Webster        TW3857@gmail.com    male     7-1-17   \n",
      "2     Edward     Bowen  Edward.Bowen@gmail.com    male     7-1-17   \n",
      "3     Marcus     Bauer  Marcus.Bauer@gmail.com    male     7-1-17   \n",
      "4    Roberta      Best      RB6305@hotmail.com  female     7-1-17   \n",
      "\n",
      "  fitness_test_date application_date purchase_date  \n",
      "0        2017-07-03              NaN           NaN  \n",
      "1        2017-07-02              NaN           NaN  \n",
      "2               NaN       2017-07-04    2017-07-04  \n",
      "3        2017-07-01       2017-07-03    2017-07-05  \n",
      "4        2017-07-02              NaN           NaN  \n",
      "5004\n"
     ]
    }
   ],
   "source": [
    "df = pd.merge(visits, fitness_tests, how='left')\n",
    "df = pd.merge(df, applications, how='left')\n",
    "df = pd.merge(df, purchases, how='left')\n",
    "print(df.head())\n",
    "print(len(df))"
   ]
  },
  {
   "cell_type": "markdown",
   "metadata": {},
   "source": [
    "### A/B Groups"
   ]
  },
  {
   "cell_type": "markdown",
   "metadata": {},
   "source": [
    "`ab_test_group` is defined as `A` if a fitness test was conducted and `B` if it was not. "
   ]
  },
  {
   "cell_type": "code",
   "execution_count": 55,
   "metadata": {},
   "outputs": [
    {
     "name": "stdout",
     "output_type": "stream",
     "text": [
      "  first_name last_name                   email  gender visit_date  \\\n",
      "0        Kim    Walter   KimWalter58@gmail.com  female     7-1-17   \n",
      "1        Tom   Webster        TW3857@gmail.com    male     7-1-17   \n",
      "2     Edward     Bowen  Edward.Bowen@gmail.com    male     7-1-17   \n",
      "3     Marcus     Bauer  Marcus.Bauer@gmail.com    male     7-1-17   \n",
      "4    Roberta      Best      RB6305@hotmail.com  female     7-1-17   \n",
      "\n",
      "  fitness_test_date application_date purchase_date ab_test_group  \n",
      "0        2017-07-03              NaN           NaN             A  \n",
      "1        2017-07-02              NaN           NaN             A  \n",
      "2               NaN       2017-07-04    2017-07-04             B  \n",
      "3        2017-07-01       2017-07-03    2017-07-05             A  \n",
      "4        2017-07-02              NaN           NaN             A  \n"
     ]
    }
   ],
   "source": [
    "df['ab_test_group'] = df.fitness_test_date.apply(lambda x:'A' if pd.notnull(x) else 'B')\n",
    "print(df.head())"
   ]
  },
  {
   "cell_type": "markdown",
   "metadata": {},
   "source": [
    "Next, we will count how many participants were in each group. "
   ]
  },
  {
   "cell_type": "code",
   "execution_count": 63,
   "metadata": {},
   "outputs": [
    {
     "name": "stdout",
     "output_type": "stream",
     "text": [
      "  ab_test_group  first_name\n",
      "0             A        2504\n",
      "1             B        2500\n"
     ]
    }
   ],
   "source": [
    "ab_counts = df.groupby(\"ab_test_group\").first_name.count().reset_index()\n",
    "groups = ['Group A', 'Group B']\n",
    "print(ab_counts)"
   ]
  },
  {
   "cell_type": "markdown",
   "metadata": {},
   "source": [
    "Then, convert this data into a pie chart, showing what percentage of participants were in each group. "
   ]
  },
  {
   "cell_type": "code",
   "execution_count": 65,
   "metadata": {},
   "outputs": [
    {
     "data": {
      "image/png": "[encoded data removed]",
      "text/plain": [
       "<matplotlib.figure.Figure at 0x1106535f8>"
      ]
     },
     "metadata": {},
     "output_type": "display_data"
    },
    {
     "data": {
      "text/plain": [
       "<matplotlib.figure.Figure at 0x110643a58>"
      ]
     },
     "metadata": {},
     "output_type": "display_data"
    }
   ],
   "source": [
    "plt.pie(ab_counts.first_name.values, labels = groups, autopct = '%0.2f%%')\n",
    "plt.axis('equal')\n",
    "plt.show()\n",
    "plt.savefig('ab_test_pie_chart.png')"
   ]
  },
  {
   "cell_type": "markdown",
   "metadata": {},
   "source": [
    "### Who Applies to the Gym"
   ]
  },
  {
   "cell_type": "markdown",
   "metadata": {},
   "source": [
    "The signup process for MuscleHub has many steps. First, clients must take a fitness test (if in Group A). Then, they must fill out an application. Finally, they must pay for the first month. \n",
    "\n",
    "Here, we will determine how many make it to step 2, filling out an application. "
   ]
  },
  {
   "cell_type": "code",
   "execution_count": 75,
   "metadata": {
    "scrolled": true
   },
   "outputs": [
    {
     "name": "stdout",
     "output_type": "stream",
     "text": [
      "  first_name last_name                   email  gender visit_date  \\\n",
      "0        Kim    Walter   KimWalter58@gmail.com  female     7-1-17   \n",
      "1        Tom   Webster        TW3857@gmail.com    male     7-1-17   \n",
      "2     Edward     Bowen  Edward.Bowen@gmail.com    male     7-1-17   \n",
      "3     Marcus     Bauer  Marcus.Bauer@gmail.com    male     7-1-17   \n",
      "4    Roberta      Best      RB6305@hotmail.com  female     7-1-17   \n",
      "\n",
      "  fitness_test_date application_date purchase_date ab_test_group  \\\n",
      "0        2017-07-03              NaN           NaN             A   \n",
      "1        2017-07-02              NaN           NaN             A   \n",
      "2               NaN       2017-07-04    2017-07-04             B   \n",
      "3        2017-07-01       2017-07-03    2017-07-05             A   \n",
      "4        2017-07-02              NaN           NaN             A   \n",
      "\n",
      "   is_application  \n",
      "0  No Application  \n",
      "1  No Application  \n",
      "2     Application  \n",
      "3     Application  \n",
      "4  No Application  \n"
     ]
    }
   ],
   "source": [
    "df['is_application'] = df.application_date.apply(lambda x:'Application' if pd.notnull(x) else 'No Application')\n",
    "print(df.head())"
   ]
  },
  {
   "cell_type": "markdown",
   "metadata": {},
   "source": [
    "How many people from group A and group B pick up an application?"
   ]
  },
  {
   "cell_type": "code",
   "execution_count": 79,
   "metadata": {},
   "outputs": [
    {
     "name": "stdout",
     "output_type": "stream",
     "text": [
      "  ab_test_group  is_application  first_name\n",
      "0             A     Application         250\n",
      "1             A  No Application        2254\n",
      "2             B     Application         325\n",
      "3             B  No Application        2175\n"
     ]
    }
   ],
   "source": [
    "app_counts = df.groupby([\"ab_test_group\", 'is_application']).first_name.count().reset_index()\n",
    "print(app_counts)"
   ]
  },
  {
   "cell_type": "code",
   "execution_count": 80,
   "metadata": {},
   "outputs": [
    {
     "name": "stdout",
     "output_type": "stream",
     "text": [
      "is_application ab_test_group  Application  No Application\n",
      "0                          A          250            2254\n",
      "1                          B          325            2175\n"
     ]
    }
   ],
   "source": [
    "counts_pivot = app_counts.pivot(columns = \"is_application\",\n",
    "                index = 'ab_test_group',\n",
    "                values = 'first_name').reset_index()\n",
    "print(counts_pivot)"
   ]
  },
  {
   "cell_type": "code",
   "execution_count": 81,
   "metadata": {},
   "outputs": [
    {
     "name": "stdout",
     "output_type": "stream",
     "text": [
      "is_application ab_test_group  Application  No Application  total\n",
      "0                          A          250            2254   2504\n",
      "1                          B          325            2175   2500\n"
     ]
    }
   ],
   "source": [
    "counts_pivot['total'] = counts_pivot.Application + counts_pivot['No Application']\n",
    "print(counts_pivot)"
   ]
  },
  {
   "cell_type": "markdown",
   "metadata": {},
   "source": [
    "With the number that applied and the totals, we can now calculate the percent of clients who progress to the application for each experimental group. "
   ]
  },
  {
   "cell_type": "code",
   "execution_count": 82,
   "metadata": {},
   "outputs": [
    {
     "name": "stdout",
     "output_type": "stream",
     "text": [
      "is_application ab_test_group  Application  No Application  total  \\\n",
      "0                          A          250            2254   2504   \n",
      "1                          B          325            2175   2500   \n",
      "\n",
      "is_application  Percent with Application  \n",
      "0                               9.984026  \n",
      "1                              13.000000  \n"
     ]
    }
   ],
   "source": [
    "counts_pivot['Percent with Application'] = 100 * (counts_pivot.Application / counts_pivot.total)\n",
    "print(counts_pivot)"
   ]
  },
  {
   "cell_type": "markdown",
   "metadata": {},
   "source": [
    "So, more clients from group B (no fitness test) turned in an application. "
   ]
  },
  {
   "cell_type": "markdown",
   "metadata": {},
   "source": [
    "### Is this difference significant?"
   ]
  },
  {
   "cell_type": "markdown",
   "metadata": {},
   "source": [
    "Because we have categorical data and are comparing two possible outcomes in a contingency table, we will use a Chi Square test for this analysis. \n"
   ]
  },
  {
   "cell_type": "code",
   "execution_count": 85,
   "metadata": {},
   "outputs": [
    {
     "name": "stdout",
     "output_type": "stream",
     "text": [
      "0.0009647827600722304\n"
     ]
    }
   ],
   "source": [
    "contingency = [[250, 2254],\n",
    "              [325, 2175]]\n",
    "chi2, pval, dof, expected = chi2_contingency(contingency)\n",
    "print(pval)"
   ]
  },
  {
   "cell_type": "markdown",
   "metadata": {},
   "source": [
    "Our P value was 0.009, far less than 0.05. This means the null hypothesis *(no difference between the two groups)* is rejected. "
   ]
  },
  {
   "cell_type": "markdown",
   "metadata": {},
   "source": [
    "### Who Purchases a Membership?"
   ]
  },
  {
   "cell_type": "markdown",
   "metadata": {},
   "source": [
    "Now we are interested in of those who filled out an application, how many actually purchased a membership?\n",
    "\n",
    "First, add a row to determine whether someone is a member (has paid) or not. "
   ]
  },
  {
   "cell_type": "code",
   "execution_count": 88,
   "metadata": {},
   "outputs": [
    {
     "name": "stdout",
     "output_type": "stream",
     "text": [
      "  first_name last_name                   email  gender visit_date  \\\n",
      "0        Kim    Walter   KimWalter58@gmail.com  female     7-1-17   \n",
      "1        Tom   Webster        TW3857@gmail.com    male     7-1-17   \n",
      "2     Edward     Bowen  Edward.Bowen@gmail.com    male     7-1-17   \n",
      "3     Marcus     Bauer  Marcus.Bauer@gmail.com    male     7-1-17   \n",
      "4    Roberta      Best      RB6305@hotmail.com  female     7-1-17   \n",
      "\n",
      "  fitness_test_date application_date purchase_date ab_test_group  \\\n",
      "0        2017-07-03              NaN           NaN             A   \n",
      "1        2017-07-02              NaN           NaN             A   \n",
      "2               NaN       2017-07-04    2017-07-04             B   \n",
      "3        2017-07-01       2017-07-03    2017-07-05             A   \n",
      "4        2017-07-02              NaN           NaN             A   \n",
      "\n",
      "   is_application is_member  \n",
      "0  No Application      None  \n",
      "1  No Application      None  \n",
      "2     Application    Member  \n",
      "3     Application    Member  \n",
      "4  No Application      None  \n"
     ]
    }
   ],
   "source": [
    "df['is_member'] = df.purchase_date.apply(lambda x: 'Member' if pd.notnull(x) else 'None')\n",
    "print(df.head())"
   ]
  },
  {
   "cell_type": "markdown",
   "metadata": {},
   "source": [
    "Now, isolate the rows for clients who picked up an application. "
   ]
  },
  {
   "cell_type": "code",
   "execution_count": 95,
   "metadata": {},
   "outputs": [
    {
     "name": "stdout",
     "output_type": "stream",
     "text": [
      "   first_name last_name                    email  gender visit_date  \\\n",
      "2      Edward     Bowen   Edward.Bowen@gmail.com    male     7-1-17   \n",
      "3      Marcus     Bauer   Marcus.Bauer@gmail.com    male     7-1-17   \n",
      "9    Salvador  Cardenas  SCardenas1980@gmail.com    male     7-1-17   \n",
      "11    Valerie     Munoz     VMunoz1998@gmail.com  female     7-1-17   \n",
      "35    Michael     Burks         MB9820@gmail.com    male     7-1-17   \n",
      "\n",
      "   fitness_test_date application_date purchase_date ab_test_group  \\\n",
      "2                NaN       2017-07-04    2017-07-04             B   \n",
      "3         2017-07-01       2017-07-03    2017-07-05             A   \n",
      "9         2017-07-07       2017-07-06           NaN             A   \n",
      "11        2017-07-03       2017-07-05    2017-07-06             A   \n",
      "35               NaN       2017-07-07    2017-07-13             B   \n",
      "\n",
      "   is_application is_member  \n",
      "2     Application    Member  \n",
      "3     Application    Member  \n",
      "9     Application      None  \n",
      "11    Application    Member  \n",
      "35    Application    Member  \n"
     ]
    }
   ],
   "source": [
    "just_apps = df[df.is_application == \"Application\"]\n",
    "print(just_apps.head())"
   ]
  },
  {
   "cell_type": "markdown",
   "metadata": {},
   "source": [
    "Then, we can perform a count for how many members there are for each experimental group. "
   ]
  },
  {
   "cell_type": "code",
   "execution_count": 116,
   "metadata": {},
   "outputs": [
    {
     "name": "stdout",
     "output_type": "stream",
     "text": [
      "is_member ab_test_group  Member  None  Total  Percent Purchase\n",
      "0                     A     200    50    250         80.000000\n",
      "1                     B     250    75    325         76.923077\n"
     ]
    }
   ],
   "source": [
    "member = just_apps.groupby([\"is_member\", 'ab_test_group']).first_name.count().reset_index()\n",
    "member_pivot = member.pivot(columns = 'is_member',\n",
    "                           index = \"ab_test_group\",\n",
    "                           values = 'first_name').reset_index()\n",
    "member_pivot['Total'] = member_pivot.Member + member_pivot['None']\n",
    "member_pivot[\"Percent Purchase\"] = 100 * (member_pivot.Member / member_pivot.Total)\n",
    "print(member_pivot)"
   ]
  },
  {
   "cell_type": "markdown",
   "metadata": {},
   "source": [
    "For both groups, it looks like if an application was picked up, there was a relatively equal change for them to become a paying member. "
   ]
  },
  {
   "cell_type": "markdown",
   "metadata": {},
   "source": [
    "### Is this difference significant?"
   ]
  },
  {
   "cell_type": "code",
   "execution_count": 118,
   "metadata": {},
   "outputs": [],
   "source": [
    "contingency2 = [[200, 50],\n",
    "               [250, 75]]"
   ]
  },
  {
   "cell_type": "code",
   "execution_count": 119,
   "metadata": {},
   "outputs": [
    {
     "name": "stdout",
     "output_type": "stream",
     "text": [
      "0.43258646051083327\n"
     ]
    }
   ],
   "source": [
    "chi2, pval2, dof, expected = chi2_contingency(contingency2)\n",
    "print(pval2)"
   ]
  },
  {
   "cell_type": "markdown",
   "metadata": {},
   "source": [
    "Thus, our p value is 0.432. This is much higher than 0.05, meaning that there is no statistically significant difference between these two groups after an application has been filled out. \n",
    "\n",
    "\n",
    "Therefore, we know that the **main point of transition is filling out an application**. "
   ]
  },
  {
   "cell_type": "markdown",
   "metadata": {},
   "source": [
    "### Looking at All Visitors"
   ]
  },
  {
   "cell_type": "markdown",
   "metadata": {},
   "source": [
    "What percentage of **all visitors** finally became members?"
   ]
  },
  {
   "cell_type": "code",
   "execution_count": 128,
   "metadata": {
    "scrolled": true
   },
   "outputs": [],
   "source": [
    "final_member_count = df.groupby(['ab_test_group', 'is_member'])\\\n",
    "                 .first_name.count().reset_index()\n",
    "final_member_pivot = final_member_count.pivot(columns='is_member',\n",
    "                                  index='ab_test_group',\n",
    "                                  values='first_name')\\\n",
    "                           .reset_index()\n",
    "\n"
   ]
  },
  {
   "cell_type": "code",
   "execution_count": 132,
   "metadata": {},
   "outputs": [
    {
     "name": "stdout",
     "output_type": "stream",
     "text": [
      "is_member ab_test_group  Member  None  Total  Percent Purchase\n",
      "0                     A     200  2304   2504          0.079872\n",
      "1                     B     250  2250   2500          0.100000\n"
     ]
    }
   ],
   "source": [
    "final_member_pivot['Total'] = final_member_pivot.Member + final_member_pivot['None']\n",
    "final_member_pivot['Percent Purchase'] = final_member_pivot.Member / final_member_pivot.Total\n",
    "\n",
    "print(final_member_pivot)"
   ]
  },
  {
   "cell_type": "markdown",
   "metadata": {},
   "source": [
    "There was **no significance** once someone had already picked up an application. \n",
    "\n",
    "Now lets consider if there is any significance across **everyone who visits** MuscleHub."
   ]
  },
  {
   "cell_type": "code",
   "execution_count": 133,
   "metadata": {},
   "outputs": [
    {
     "name": "stdout",
     "output_type": "stream",
     "text": [
      "0.014724114645783203\n"
     ]
    }
   ],
   "source": [
    "contingency3 = [[200, 2304],\n",
    "               [250, 2250]]\n",
    "chi2, pval3, dof, expected = chi2_contingency(contingency3)\n",
    "print(pval3)"
   ]
  },
  {
   "cell_type": "markdown",
   "metadata": {},
   "source": [
    "Our P value is 0.014 which is less than 0.05. Therefore, there is **no overall significance** across all clients who visit MuscleHub. "
   ]
  },
  {
   "cell_type": "markdown",
   "metadata": {},
   "source": [
    "### Final Funnel and Results"
   ]
  },
  {
   "cell_type": "markdown",
   "metadata": {},
   "source": [
    "These bar charts show the acquisition process across 3 checkpoints, as calculated above:\n",
    "- percent of visitors who fill out an application\n",
    "- percent of applicants who purchase a membership\n",
    "- percent of all visitors who purchase a membership\n",
    "\n",
    "These demonstrate the percentages from **each** set: `counts_pivot`, `member_pivot`, and `final_member_pivot`. \n",
    "\n",
    "Each also demonstrates whether clients were in Group A or Group B. "
   ]
  },
  {
   "cell_type": "code",
   "execution_count": 135,
   "metadata": {},
   "outputs": [
    {
     "data": {
      "image/png": "[encoded data removed]",
      "text/plain": [
       "<matplotlib.figure.Figure at 0x1a1b799ef0>"
      ]
     },
     "metadata": {},
     "output_type": "display_data"
    },
    {
     "data": {
      "text/plain": [
       "<matplotlib.figure.Figure at 0x1a1b7cc278>"
      ]
     },
     "metadata": {},
     "output_type": "display_data"
    }
   ],
   "source": [
    "# Percent of Visitors who Apply\n",
    "ax = plt.subplot()\n",
    "plt.bar(range(len(counts_pivot)),\n",
    "       counts_pivot['Percent with Application'].values)\n",
    "ax.set_xticks(range(len(counts_pivot)))\n",
    "ax.set_xticklabels(['Fitness Test', 'No Fitness Test'])\n",
    "ax.set_yticks([0, 0.05, 0.10, 0.15, 0.20])\n",
    "ax.set_yticklabels(['0%', '5%', '10%', '15%', '20%'])\n",
    "plt.show()\n",
    "plt.savefig('percent_visitors_apply.png')"
   ]
  },
  {
   "cell_type": "code",
   "execution_count": 140,
   "metadata": {},
   "outputs": [
    {
     "data": {
      "image/png": "[encoded data removed]",
      "text/plain": [
       "<matplotlib.figure.Figure at 0x1a1b9eb908>"
      ]
     },
     "metadata": {},
     "output_type": "display_data"
    },
    {
     "data": {
      "text/plain": [
       "<matplotlib.figure.Figure at 0x1a1b5380b8>"
      ]
     },
     "metadata": {},
     "output_type": "display_data"
    }
   ],
   "source": [
    "# Percent of Applicants who Purchase\n",
    "ax = plt.subplot()\n",
    "plt.bar(range(len(member_pivot)),\n",
    "       member_pivot['Percent Purchase'].values)\n",
    "ax.set_xticks(range(len(counts_pivot)))\n",
    "ax.set_xticklabels(['Fitness Test', 'No Fitness Test'])\n",
    "ax.set_yticks([0, 0.05, 0.10, 0.15, 0.20])\n",
    "ax.set_yticklabels(['0%', '5%', '10%', '15%', '20%'])\n",
    "plt.show()\n",
    "plt.savefig('percent_apply_purchase.png')"
   ]
  },
  {
   "cell_type": "code",
   "execution_count": 139,
   "metadata": {},
   "outputs": [
    {
     "data": {
      "image/png": "[encoded data removed]",
      "text/plain": [
       "<matplotlib.figure.Figure at 0x1a1b9a3ba8>"
      ]
     },
     "metadata": {},
     "output_type": "display_data"
    },
    {
     "data": {
      "text/plain": [
       "<matplotlib.figure.Figure at 0x1a1ba43358>"
      ]
     },
     "metadata": {},
     "output_type": "display_data"
    }
   ],
   "source": [
    "# Percent of Visitors who Purchase\n",
    "ax = plt.subplot()\n",
    "plt.bar(range(len(final_member_pivot)),\n",
    "       final_member_pivot['Percent Purchase'].values)\n",
    "ax.set_xticks(range(len(counts_pivot)))\n",
    "ax.set_xticklabels(['Fitness Test', 'No Fitness Test'])\n",
    "ax.set_yticks([0, 0.05, 0.10, 0.15, 0.20])\n",
    "ax.set_yticklabels(['0%', '5%', '10%', '15%', '20%'])\n",
    "plt.show()\n",
    "plt.savefig('percent_visitors_purchase.png')"
   ]
  }
 ],
 "metadata": {
  "kernelspec": {
   "display_name": "Python 3",
   "language": "python",
   "name": "python3"
  },
  "language_info": {
   "codemirror_mode": {
    "name": "ipython",
    "version": 3
   },
   "file_extension": ".py",
   "mimetype": "text/x-python",
   "name": "python",
   "nbconvert_exporter": "python",
   "pygments_lexer": "ipython3",
   "version": "3.6.4"
  }
 },
 "nbformat": 4,
 "nbformat_minor": 2
}
